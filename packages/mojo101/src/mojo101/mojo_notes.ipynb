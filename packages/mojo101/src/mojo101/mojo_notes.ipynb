{
 "cells": [
  {
   "cell_type": "markdown",
   "source": [
    "\n",
    "# Mojo Notes:\n",
    "\n",
    "- Mojo 内测阶段，示例代码。\n",
    "- 注意： 当前阶段的示例，不代表正式版之后的语法。（当前不支持的特性，未来可能正确支持）\n",
    "\n",
    "## print\n",
    "\n",
    "- 暂时不支持 f-string。\n",
    "\n"
   ],
   "metadata": {
    "collapsed": false
   }
  },
  {
   "cell_type": "code",
   "execution_count": 5,
   "outputs": [
    {
     "name": "stdout",
     "output_type": "stream",
     "text": [
      "hello mojo\n"
     ]
    }
   ],
   "source": [
    "print(\"hello mojo\")"
   ],
   "metadata": {
    "collapsed": false,
    "ExecuteTime": {
     "start_time": "2023-05-11T09:21:18.984320Z",
     "end_time": "2023-05-11T09:21:18.990954Z"
    }
   }
  },
  {
   "cell_type": "code",
   "execution_count": 4,
   "outputs": [
    {
     "name": "stdout",
     "output_type": "stream",
     "text": [
      "hello mojo\n"
     ]
    }
   ],
   "source": [
    "# 目前 Mojo 不支持\n",
    "print(\"hello {}\".format(\"mojo\"))"
   ],
   "metadata": {
    "collapsed": false,
    "ExecuteTime": {
     "start_time": "2023-05-11T09:21:16.642916Z",
     "end_time": "2023-05-11T09:21:16.654254Z"
    }
   }
  },
  {
   "cell_type": "code",
   "execution_count": 6,
   "outputs": [
    {
     "name": "stdout",
     "output_type": "stream",
     "text": [
      "hello mojo\n"
     ]
    }
   ],
   "source": [
    "print(f\"hello {'mojo'}\")"
   ],
   "metadata": {
    "collapsed": false,
    "ExecuteTime": {
     "start_time": "2023-05-11T09:21:21.207607Z",
     "end_time": "2023-05-11T09:21:21.212959Z"
    }
   }
  },
  {
   "cell_type": "code",
   "execution_count": 7,
   "outputs": [
    {
     "name": "stdout",
     "output_type": "stream",
     "text": [
      "hello mojo\n"
     ]
    }
   ],
   "source": [
    "print(\"hello %s\" % \"mojo\")"
   ],
   "metadata": {
    "collapsed": false,
    "ExecuteTime": {
     "start_time": "2023-05-11T09:21:29.439050Z",
     "end_time": "2023-05-11T09:21:29.445126Z"
    }
   }
  },
  {
   "cell_type": "code",
   "execution_count": null,
   "outputs": [],
   "source": [],
   "metadata": {
    "collapsed": false
   }
  }
 ],
 "metadata": {
  "kernelspec": {
   "display_name": "Python 3",
   "language": "python",
   "name": "python3"
  },
  "language_info": {
   "codemirror_mode": {
    "name": "ipython",
    "version": 2
   },
   "file_extension": ".py",
   "mimetype": "text/x-python",
   "name": "python",
   "nbconvert_exporter": "python",
   "pygments_lexer": "ipython2",
   "version": "2.7.6"
  }
 },
 "nbformat": 4,
 "nbformat_minor": 0
}
