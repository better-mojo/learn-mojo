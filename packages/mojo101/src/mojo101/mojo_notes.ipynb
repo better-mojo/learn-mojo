{
 "cells": [
  {
   "cell_type": "markdown",
   "source": [
    "\n",
    "# Mojo Notes:\n",
    "\n",
    "- Mojo 内测阶段，示例代码。\n",
    "- 注意： 当前阶段的示例，不代表正式版之后的语法。（当前不支持的特性，未来可能正确支持）\n",
    "\n",
    "## print\n",
    "\n",
    "- 暂时不支持 f-string。\n",
    "\n"
   ],
   "metadata": {
    "collapsed": false
   }
  },
  {
   "cell_type": "code",
   "execution_count": null,
   "outputs": [],
   "source": [
    "print(\"hello mojo\")"
   ],
   "metadata": {
    "collapsed": false,
    "ExecuteTime": {
     "start_time": "2023-05-11T09:21:18.984320Z",
     "end_time": "2023-05-11T09:21:18.990954Z"
    }
   }
  },
  {
   "cell_type": "code",
   "execution_count": null,
   "outputs": [],
   "source": [
    "# 目前 Mojo 不支持\n",
    "print(\"hello {}\".format(\"mojo\"))"
   ],
   "metadata": {
    "collapsed": false,
    "ExecuteTime": {
     "start_time": "2023-05-11T09:21:16.642916Z",
     "end_time": "2023-05-11T09:21:16.654254Z"
    }
   }
  },
  {
   "cell_type": "code",
   "execution_count": null,
   "outputs": [],
   "source": [
    "print(f\"hello {'mojo'}\")"
   ],
   "metadata": {
    "collapsed": false,
    "ExecuteTime": {
     "start_time": "2023-05-11T09:21:21.207607Z",
     "end_time": "2023-05-11T09:21:21.212959Z"
    }
   }
  },
  {
   "cell_type": "code",
   "execution_count": null,
   "outputs": [],
   "source": [
    "print(\"hello %s\" % \"mojo\")"
   ],
   "metadata": {
    "collapsed": false,
    "ExecuteTime": {
     "start_time": "2023-05-11T09:21:29.439050Z",
     "end_time": "2023-05-11T09:21:29.445126Z"
    }
   }
  },
  {
   "cell_type": "markdown",
   "source": [
    "## import python libs\n",
    "\n",
    "\n",
    "- bs4 正常使用\n",
    "- requests, 不能使用， 猜测是禁用了。（保护 playground 机器安全）"
   ],
   "metadata": {
    "collapsed": false
   }
  },
  {
   "cell_type": "code",
   "execution_count": null,
   "outputs": [],
   "source": [
    "html_doc = \"\"\"\n",
    "<html><head><title>The Dormouse's story</title></head>\n",
    "<body>\n",
    "<p class=\"title\"><b>The Dormouse's story</b></p>\n",
    "\n",
    "<p class=\"story\">Once upon a time there were three little sisters; and their names were,\n",
    "<a href=\"http://example.com/lacie\" class=\"sister\" id=\"link2\">Lacie</a> and\n",
    "<a href=\"http://example.com/tillie\" class=\"sister\" id=\"link3\">Tillie</a>;\n",
    "and they lived at the bottom of a well.</p>\n",
    "\n",
    "\"\"\"\n",
    "\n",
    "\n",
    "from PythonInterface import Python\n",
    "\n",
    "\n",
    "let bs4 = Python.import_module(\"bs4\")\n",
    "let builtins = Python.import_module(\"builtins\")\n",
    "let bprint = builtins.print\n",
    "\n",
    "\n",
    "let soup = bs4.BeautifulSoup(html_doc)\n",
    "\n",
    "let result = soup.prettify()\n",
    "\n",
    "builtins.print(result)\n",
    "\n",
    "bprint(\"print end!\")\n",
    "\n"
   ],
   "metadata": {
    "collapsed": false
   }
  },
  {
   "cell_type": "code",
   "execution_count": null,
   "outputs": [],
   "source": [
    "from PythonInterface import Python\n",
    "\n",
    "let requests = Python.import_module(\"requests\")\n",
    "let builtins = Python.import_module(\"builtins\")\n",
    "let bp = builtins.print\n",
    "\n",
    "\n",
    "# x = requests.get('https://api.github.com/events')\n",
    "x = requests.get('https://www.runoob.com/')\n",
    "\n",
    "\n",
    "let result = x.text\n",
    "\n",
    "bp(result)\n",
    "\n"
   ],
   "metadata": {
    "collapsed": false
   }
  },
  {
   "cell_type": "code",
   "execution_count": null,
   "outputs": [],
   "source": [
    "# 导入 requests 包\n",
    "import requests\n",
    "\n",
    "# 发送请求\n",
    "x = requests.get('https://www.runoob.com/')\n",
    "\n",
    "# 返回网页内容\n",
    "print(x.text)"
   ],
   "metadata": {
    "collapsed": false,
    "ExecuteTime": {
     "start_time": "2023-05-11T10:51:40.467153Z",
     "end_time": "2023-05-11T10:51:40.859395Z"
    }
   }
  },
  {
   "cell_type": "code",
   "execution_count": null,
   "outputs": [],
   "source": [],
   "metadata": {
    "collapsed": false,
    "ExecuteTime": {
     "start_time": "2023-05-11T11:01:41.210696Z",
     "end_time": "2023-05-11T11:01:41.387100Z"
    }
   }
  },
  {
   "cell_type": "markdown",
   "source": [
    "## 其他测试：\n",
    "\n",
    "\n",
    "\n"
   ],
   "metadata": {
    "collapsed": false
   }
  }
 ],
 "metadata": {
  "kernelspec": {
   "display_name": "Python 3",
   "language": "python",
   "name": "python3"
  },
  "language_info": {
   "codemirror_mode": {
    "name": "ipython",
    "version": 2
   },
   "file_extension": ".py",
   "mimetype": "text/x-python",
   "name": "python",
   "nbconvert_exporter": "python",
   "pygments_lexer": "ipython2",
   "version": "2.7.6"
  }
 },
 "nbformat": 4,
 "nbformat_minor": 0
}
